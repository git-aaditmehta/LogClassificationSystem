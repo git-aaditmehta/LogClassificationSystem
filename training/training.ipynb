{
 "cells": [
  {
   "cell_type": "code",
   "execution_count": 3,
   "id": "a506636b",
   "metadata": {},
   "outputs": [],
   "source": [
    "import pandas as pd\n",
    "df=pd.read_csv(\"synthetic_logs.csv\")\n",
    "df.head()\n",
    "df.drop(labels='complexity',axis=1,inplace=True)"
   ]
  },
  {
   "cell_type": "code",
   "execution_count": 4,
   "id": "5c003a73",
   "metadata": {},
   "outputs": [
    {
     "data": {
      "application/vnd.microsoft.datawrangler.viewer.v0+json": {
       "columns": [
        {
         "name": "index",
         "rawType": "int64",
         "type": "integer"
        },
        {
         "name": "timestamp",
         "rawType": "object",
         "type": "string"
        },
        {
         "name": "source",
         "rawType": "object",
         "type": "string"
        },
        {
         "name": "log_message",
         "rawType": "object",
         "type": "string"
        },
        {
         "name": "target_label",
         "rawType": "object",
         "type": "string"
        }
       ],
       "conversionMethod": "pd.DataFrame",
       "ref": "2e02c2cd-f6e0-4146-98bf-c97fd9f84788",
       "rows": [
        [
         "0",
         "2025-06-27 07:20:25",
         "ModernCRM",
         "nova.osapi_compute.wsgi.server [req-b9718cd8-f65e-49cc-8349-6cf7122af137 113d3a99c3da401fbd62cc2caa5b96d2 54fadb412c4e40cdbaed9335e4c35a9e - - -] 10.11.10.1 \"GET /v2/54fadb412c4e40cdbaed9335e4c35a9e/servers/detail HTTP/1.1\" status: 200 len: 1893 time: 0.2675118",
         "HTTP Status"
        ],
        [
         "1",
         "1/14/2025 23:07",
         "ModernCRM",
         "Email service experiencing issues with sending",
         "Critical Error"
        ],
        [
         "2",
         "1/17/2025 1:29",
         "AnalyticsEngine",
         "Unauthorized access to data was attempted",
         "Security Alert"
        ],
        [
         "3",
         "2025-07-12 00:24:16",
         "ModernHR",
         "nova.osapi_compute.wsgi.server [req-4895c258-b2f8-488f-a2a3-4fae63982e48 113d3a99c3da401fbd62cc2caa5b96d2 54fadb412c4e40cdbaed9335e4c35a9e - - -] 10.11.10.1 \"GET /v2/54fadb412c4e40cdbaed9335e4c35a9e/servers/detail HTTP/1.1\" HTTP status code -  200 len: 211 time: 0.0968180",
         "HTTP Status"
        ],
        [
         "4",
         "2025-06-02 18:25:23",
         "BillingSystem",
         "nova.osapi_compute.wsgi.server [req-ee8bc8ba-9265-4280-9215-dbe000a41209 113d3a99c3da401fbd62cc2caa5b96d2 54fadb412c4e40cdbaed9335e4c35a9e - - -] 10.11.10.1 \"GET /v2/54fadb412c4e40cdbaed9335e4c35a9e/servers/detail HTTP/1.1\" RCODE  200 len: 1874 time: 0.2280791",
         "HTTP Status"
        ]
       ],
       "shape": {
        "columns": 4,
        "rows": 5
       }
      },
      "text/html": [
       "<div>\n",
       "<style scoped>\n",
       "    .dataframe tbody tr th:only-of-type {\n",
       "        vertical-align: middle;\n",
       "    }\n",
       "\n",
       "    .dataframe tbody tr th {\n",
       "        vertical-align: top;\n",
       "    }\n",
       "\n",
       "    .dataframe thead th {\n",
       "        text-align: right;\n",
       "    }\n",
       "</style>\n",
       "<table border=\"1\" class=\"dataframe\">\n",
       "  <thead>\n",
       "    <tr style=\"text-align: right;\">\n",
       "      <th></th>\n",
       "      <th>timestamp</th>\n",
       "      <th>source</th>\n",
       "      <th>log_message</th>\n",
       "      <th>target_label</th>\n",
       "    </tr>\n",
       "  </thead>\n",
       "  <tbody>\n",
       "    <tr>\n",
       "      <th>0</th>\n",
       "      <td>2025-06-27 07:20:25</td>\n",
       "      <td>ModernCRM</td>\n",
       "      <td>nova.osapi_compute.wsgi.server [req-b9718cd8-f...</td>\n",
       "      <td>HTTP Status</td>\n",
       "    </tr>\n",
       "    <tr>\n",
       "      <th>1</th>\n",
       "      <td>1/14/2025 23:07</td>\n",
       "      <td>ModernCRM</td>\n",
       "      <td>Email service experiencing issues with sending</td>\n",
       "      <td>Critical Error</td>\n",
       "    </tr>\n",
       "    <tr>\n",
       "      <th>2</th>\n",
       "      <td>1/17/2025 1:29</td>\n",
       "      <td>AnalyticsEngine</td>\n",
       "      <td>Unauthorized access to data was attempted</td>\n",
       "      <td>Security Alert</td>\n",
       "    </tr>\n",
       "    <tr>\n",
       "      <th>3</th>\n",
       "      <td>2025-07-12 00:24:16</td>\n",
       "      <td>ModernHR</td>\n",
       "      <td>nova.osapi_compute.wsgi.server [req-4895c258-b...</td>\n",
       "      <td>HTTP Status</td>\n",
       "    </tr>\n",
       "    <tr>\n",
       "      <th>4</th>\n",
       "      <td>2025-06-02 18:25:23</td>\n",
       "      <td>BillingSystem</td>\n",
       "      <td>nova.osapi_compute.wsgi.server [req-ee8bc8ba-9...</td>\n",
       "      <td>HTTP Status</td>\n",
       "    </tr>\n",
       "  </tbody>\n",
       "</table>\n",
       "</div>"
      ],
      "text/plain": [
       "             timestamp           source  \\\n",
       "0  2025-06-27 07:20:25        ModernCRM   \n",
       "1      1/14/2025 23:07        ModernCRM   \n",
       "2       1/17/2025 1:29  AnalyticsEngine   \n",
       "3  2025-07-12 00:24:16         ModernHR   \n",
       "4  2025-06-02 18:25:23    BillingSystem   \n",
       "\n",
       "                                         log_message    target_label  \n",
       "0  nova.osapi_compute.wsgi.server [req-b9718cd8-f...     HTTP Status  \n",
       "1     Email service experiencing issues with sending  Critical Error  \n",
       "2          Unauthorized access to data was attempted  Security Alert  \n",
       "3  nova.osapi_compute.wsgi.server [req-4895c258-b...     HTTP Status  \n",
       "4  nova.osapi_compute.wsgi.server [req-ee8bc8ba-9...     HTTP Status  "
      ]
     },
     "execution_count": 4,
     "metadata": {},
     "output_type": "execute_result"
    }
   ],
   "source": [
    "df.source.unique()\n",
    "df.head()\n"
   ]
  },
  {
   "cell_type": "code",
   "execution_count": 5,
   "id": "1bcf6137",
   "metadata": {},
   "outputs": [
    {
     "name": "stderr",
     "output_type": "stream",
     "text": [
      "c:\\Users\\Admin\\OneDrive\\Desktop\\LogClassificationSystem\\venv\\Lib\\site-packages\\tqdm\\auto.py:21: TqdmWarning: IProgress not found. Please update jupyter and ipywidgets. See https://ipywidgets.readthedocs.io/en/stable/user_install.html\n",
      "  from .autonotebook import tqdm as notebook_tqdm\n"
     ]
    },
    {
     "name": "stdout",
     "output_type": "stream",
     "text": [
      "Generating embeddings...\n"
     ]
    },
    {
     "name": "stderr",
     "output_type": "stream",
     "text": [
      "Batches: 100%|██████████| 76/76 [00:46<00:00,  1.62it/s]\n"
     ]
    }
   ],
   "source": [
    "from sentence_transformers import SentenceTransformer\n",
    "# Initialize the sentence transformer model\n",
    "model = SentenceTransformer('all-MiniLM-L6-v2')\n",
    "\n",
    "# Generate embeddings for the log messages\n",
    "print(\"Generating embeddings...\")\n",
    "embeddings = model.encode(df['log_message'].tolist(), show_progress_bar=True)\n"
   ]
  },
  {
   "cell_type": "code",
   "execution_count": 6,
   "id": "38764e7c",
   "metadata": {},
   "outputs": [
    {
     "data": {
      "text/plain": [
       "array([[-0.10293962,  0.03354594, -0.02202607, ...,  0.00457793,\n",
       "        -0.04259717,  0.00322621],\n",
       "       [ 0.00804572, -0.03573923,  0.04938739, ...,  0.01538319,\n",
       "        -0.06230947, -0.02774666],\n",
       "       [-0.00908224,  0.13003924, -0.05275568, ...,  0.02014104,\n",
       "        -0.05117098, -0.02930294],\n",
       "       [-0.09751046,  0.04911299, -0.03977424, ...,  0.02477502,\n",
       "        -0.03546079, -0.00018598],\n",
       "       [-0.10468338,  0.05926038, -0.02488499, ...,  0.02502055,\n",
       "        -0.037193  , -0.0256891 ]], shape=(5, 384), dtype=float32)"
      ]
     },
     "execution_count": 6,
     "metadata": {},
     "output_type": "execute_result"
    }
   ],
   "source": [
    "embeddings[:5]"
   ]
  },
  {
   "cell_type": "code",
   "execution_count": 7,
   "id": "12811118",
   "metadata": {},
   "outputs": [
    {
     "name": "stdout",
     "output_type": "stream",
     "text": [
      "Applying DBSCAN clustering...\n"
     ]
    }
   ],
   "source": [
    "\n",
    "from sklearn.cluster import DBSCAN\n",
    "\n",
    "# Apply DBSCAN for clustering\n",
    "print(\"Applying DBSCAN clustering...\")\n",
    "dbscan = DBSCAN(eps=0.2, min_samples=1,metric='cosine').fit(embeddings) \n",
    "clusters = dbscan.fit_predict(embeddings)\n",
    "\n",
    "# Add cluster labels to the dataframe\n",
    "df['cluster'] = clusters"
   ]
  },
  {
   "cell_type": "code",
   "execution_count": 8,
   "id": "8b90030f",
   "metadata": {},
   "outputs": [
    {
     "name": "stdout",
     "output_type": "stream",
     "text": [
      "                                            log_message  cluster\n",
      "0     nova.osapi_compute.wsgi.server [req-b9718cd8-f...        0\n",
      "1        Email service experiencing issues with sending        1\n",
      "2             Unauthorized access to data was attempted        2\n",
      "3     nova.osapi_compute.wsgi.server [req-4895c258-b...        0\n",
      "4     nova.osapi_compute.wsgi.server [req-ee8bc8ba-9...        0\n",
      "...                                                 ...      ...\n",
      "2405  nova.osapi_compute.wsgi.server [req-96c3ec98-2...        0\n",
      "2406  User 3844 account experienced multiple failed ...        7\n",
      "2407  nova.metadata.wsgi.server [req-b6d4a270-accb-4...        0\n",
      "2408      Email service affected by failed transmission        1\n",
      "2409  Repeated failed login attempts occurred for us...        7\n",
      "\n",
      "[2410 rows x 2 columns]\n"
     ]
    },
    {
     "data": {
      "application/vnd.microsoft.datawrangler.viewer.v0+json": {
       "columns": [
        {
         "name": "index",
         "rawType": "int64",
         "type": "integer"
        },
        {
         "name": "timestamp",
         "rawType": "object",
         "type": "string"
        },
        {
         "name": "source",
         "rawType": "object",
         "type": "string"
        },
        {
         "name": "log_message",
         "rawType": "object",
         "type": "string"
        },
        {
         "name": "target_label",
         "rawType": "object",
         "type": "string"
        },
        {
         "name": "cluster",
         "rawType": "int64",
         "type": "integer"
        }
       ],
       "conversionMethod": "pd.DataFrame",
       "ref": "899b8544-72f8-4b8e-b266-cda3911c9c1c",
       "rows": [
        [
         "29",
         "3/10/2025 23:11",
         "AnalyticsEngine",
         "Alert: brute force login attempt from 192.168.80.114 detected",
         "Security Alert",
         "12"
        ],
        [
         "304",
         "1/22/2025 16:51",
         "ModernHR",
         "Alert: brute force login attempt from 192.168.226.241 detected",
         "Security Alert",
         "12"
        ],
        [
         "939",
         "6/9/2025 6:37",
         "ModernCRM",
         "Brute force login detected from IP 192.168.237.105 address",
         "Security Alert",
         "12"
        ],
        [
         "1556",
         "2/9/2025 7:08",
         "BillingSystem",
         "Brute force login detected from IP 192.168.246.138 address",
         "Security Alert",
         "12"
        ],
        [
         "2142",
         "10/24/2025 5:18",
         "ModernCRM",
         "Brute force login detected from IP 192.168.174.13 address",
         "Security Alert",
         "12"
        ],
        [
         "2282",
         "6/30/2025 22:15",
         "ModernCRM",
         "Alert: brute force login attempt from 192.168.247.107 detected",
         "Security Alert",
         "12"
        ]
       ],
       "shape": {
        "columns": 5,
        "rows": 6
       }
      },
      "text/html": [
       "<div>\n",
       "<style scoped>\n",
       "    .dataframe tbody tr th:only-of-type {\n",
       "        vertical-align: middle;\n",
       "    }\n",
       "\n",
       "    .dataframe tbody tr th {\n",
       "        vertical-align: top;\n",
       "    }\n",
       "\n",
       "    .dataframe thead th {\n",
       "        text-align: right;\n",
       "    }\n",
       "</style>\n",
       "<table border=\"1\" class=\"dataframe\">\n",
       "  <thead>\n",
       "    <tr style=\"text-align: right;\">\n",
       "      <th></th>\n",
       "      <th>timestamp</th>\n",
       "      <th>source</th>\n",
       "      <th>log_message</th>\n",
       "      <th>target_label</th>\n",
       "      <th>cluster</th>\n",
       "    </tr>\n",
       "  </thead>\n",
       "  <tbody>\n",
       "    <tr>\n",
       "      <th>29</th>\n",
       "      <td>3/10/2025 23:11</td>\n",
       "      <td>AnalyticsEngine</td>\n",
       "      <td>Alert: brute force login attempt from 192.168....</td>\n",
       "      <td>Security Alert</td>\n",
       "      <td>12</td>\n",
       "    </tr>\n",
       "    <tr>\n",
       "      <th>304</th>\n",
       "      <td>1/22/2025 16:51</td>\n",
       "      <td>ModernHR</td>\n",
       "      <td>Alert: brute force login attempt from 192.168....</td>\n",
       "      <td>Security Alert</td>\n",
       "      <td>12</td>\n",
       "    </tr>\n",
       "    <tr>\n",
       "      <th>939</th>\n",
       "      <td>6/9/2025 6:37</td>\n",
       "      <td>ModernCRM</td>\n",
       "      <td>Brute force login detected from IP 192.168.237...</td>\n",
       "      <td>Security Alert</td>\n",
       "      <td>12</td>\n",
       "    </tr>\n",
       "    <tr>\n",
       "      <th>1556</th>\n",
       "      <td>2/9/2025 7:08</td>\n",
       "      <td>BillingSystem</td>\n",
       "      <td>Brute force login detected from IP 192.168.246...</td>\n",
       "      <td>Security Alert</td>\n",
       "      <td>12</td>\n",
       "    </tr>\n",
       "    <tr>\n",
       "      <th>2142</th>\n",
       "      <td>10/24/2025 5:18</td>\n",
       "      <td>ModernCRM</td>\n",
       "      <td>Brute force login detected from IP 192.168.174...</td>\n",
       "      <td>Security Alert</td>\n",
       "      <td>12</td>\n",
       "    </tr>\n",
       "    <tr>\n",
       "      <th>2282</th>\n",
       "      <td>6/30/2025 22:15</td>\n",
       "      <td>ModernCRM</td>\n",
       "      <td>Alert: brute force login attempt from 192.168....</td>\n",
       "      <td>Security Alert</td>\n",
       "      <td>12</td>\n",
       "    </tr>\n",
       "  </tbody>\n",
       "</table>\n",
       "</div>"
      ],
      "text/plain": [
       "            timestamp           source  \\\n",
       "29    3/10/2025 23:11  AnalyticsEngine   \n",
       "304   1/22/2025 16:51         ModernHR   \n",
       "939     6/9/2025 6:37        ModernCRM   \n",
       "1556    2/9/2025 7:08    BillingSystem   \n",
       "2142  10/24/2025 5:18        ModernCRM   \n",
       "2282  6/30/2025 22:15        ModernCRM   \n",
       "\n",
       "                                            log_message    target_label  \\\n",
       "29    Alert: brute force login attempt from 192.168....  Security Alert   \n",
       "304   Alert: brute force login attempt from 192.168....  Security Alert   \n",
       "939   Brute force login detected from IP 192.168.237...  Security Alert   \n",
       "1556  Brute force login detected from IP 192.168.246...  Security Alert   \n",
       "2142  Brute force login detected from IP 192.168.174...  Security Alert   \n",
       "2282  Alert: brute force login attempt from 192.168....  Security Alert   \n",
       "\n",
       "      cluster  \n",
       "29         12  \n",
       "304        12  \n",
       "939        12  \n",
       "1556       12  \n",
       "2142       12  \n",
       "2282       12  "
      ]
     },
     "execution_count": 8,
     "metadata": {},
     "output_type": "execute_result"
    }
   ],
   "source": [
    "print(df[['log_message', 'cluster']])\n",
    "df[df.cluster==12]\n"
   ]
  },
  {
   "cell_type": "code",
   "execution_count": 9,
   "id": "8de70d96",
   "metadata": {},
   "outputs": [
    {
     "name": "stdout",
     "output_type": "stream",
     "text": [
      "\n",
      "Clusters with more than 10 records:\n",
      "\n",
      "Cluster 0 (containing 1017 records):\n",
      "  1. nova.osapi_compute.wsgi.server [req-b9718cd8-f65e-49cc-8349-6cf7122af137 113d3a99c3da401fbd62cc2caa5b96d2 54fadb412c4e40cdbaed9335e4c35a9e - - -] 10.11.10.1 \"GET /v2/54fadb412c4e40cdbaed9335e4c35a9e/servers/detail HTTP/1.1\" status: 200 len: 1893 time: 0.2675118\n",
      "  2. nova.osapi_compute.wsgi.server [req-4895c258-b2f8-488f-a2a3-4fae63982e48 113d3a99c3da401fbd62cc2caa5b96d2 54fadb412c4e40cdbaed9335e4c35a9e - - -] 10.11.10.1 \"GET /v2/54fadb412c4e40cdbaed9335e4c35a9e/servers/detail HTTP/1.1\" HTTP status code -  200 len: 211 time: 0.0968180\n",
      "  3. nova.osapi_compute.wsgi.server [req-ee8bc8ba-9265-4280-9215-dbe000a41209 113d3a99c3da401fbd62cc2caa5b96d2 54fadb412c4e40cdbaed9335e4c35a9e - - -] 10.11.10.1 \"GET /v2/54fadb412c4e40cdbaed9335e4c35a9e/servers/detail HTTP/1.1\" RCODE  200 len: 1874 time: 0.2280791\n",
      "  4. nova.osapi_compute.wsgi.server [req-f0bffbc3-5ab0-4916-91c1-0a61dd7d4ec2 113d3a99c3da401fbd62cc2caa5b96d2 54fadb412c4e40cdbaed9335e4c35a9e - - -] 10.11.10.1 \"GET /v2/54fadb412c4e40cdbaed9335e4c35a9e/servers/detail HTTP/1.1\" Return code: 200 len: 1874 time: 0.2131531\n",
      "  5. nova.osapi_compute.wsgi.server [req-2bf7cfee-a236-42f3-8fb1-96fefab0b302 113d3a99c3da401fbd62cc2caa5b96d2 54fadb412c4e40cdbaed9335e4c35a9e - - -] 10.11.10.1 \"GET /v2/54fadb412c4e40cdbaed9335e4c35a9e/servers/detail HTTP/1.1\" RCODE  200 len: 1874 time: 0.1794369\n",
      "\n",
      "Cluster 5 (containing 147 records):\n",
      "  1. nova.compute.claims [req-a07ac654-8e81-416d-bfbb-189116b07969 113d3a99c3da401fbd62cc2caa5b96d2 54fadb412c4e40cdbaed9335e4c35a9e - - -] [instance: bf8c824d-f099-4433-a41e-e3da7578262e] Total memory: 64172 MB, used: 512.00 MB\n",
      "  2. nova.compute.claims [req-d6986b54-3735-4a42-9074-0ba7d9717de9 113d3a99c3da401fbd62cc2caa5b96d2 54fadb412c4e40cdbaed9335e4c35a9e - - -] [instance: af5f7392-f7d4-4298-b647-c98924c64aa1] memory limit: 96258.00 MB, free: 95746.00 MB\n",
      "  3. nova.compute.claims [req-72b4858f-049e-49e1-b31e-b562c5018eaf 113d3a99c3da401fbd62cc2caa5b96d2 54fadb412c4e40cdbaed9335e4c35a9e - - -] [instance: 63a0d960-70b6-44c6-b606-491478a5cadf] disk limit not specified, defaulting to unlimited\n",
      "  4. nova.compute.claims [req-5c8f52bd-8e3c-41f0-95a5-7861d247cafa 113d3a99c3da401fbd62cc2caa5b96d2 54fadb412c4e40cdbaed9335e4c35a9e - - -] [instance: d96a117b-0193-4549-bdcc-63b917273d1d] vcpu limit not specified, defaulting to unlimited\n",
      "  5. nova.compute.claims [req-d38f479d-9bb9-4276-9688-52607e8fd350 113d3a99c3da401fbd62cc2caa5b96d2 54fadb412c4e40cdbaed9335e4c35a9e - - -] [instance: 95960536-049b-41f6-9049-05fc479b6a7c] disk limit not specified, defaulting to unlimited\n",
      "\n",
      "Cluster 11 (containing 100 records):\n",
      "  1. User User685 logged out.\n",
      "  2. User User395 logged in.\n",
      "  3. User User225 logged in.\n",
      "  4. User User494 logged out.\n",
      "  5. User User900 logged in.\n",
      "\n",
      "Cluster 13 (containing 86 records):\n",
      "  1. Backup started at 2025-05-14 07:06:55.\n",
      "  2. Backup started at 2025-02-15 20:00:19.\n",
      "  3. Backup ended at 2025-08-08 13:06:23.\n",
      "  4. Backup started at 2025-11-14 08:27:43.\n",
      "  5. Backup started at 2025-12-09 10:19:11.\n",
      "\n",
      "Cluster 7 (containing 60 records):\n",
      "  1. Multiple bad login attempts detected on user 8538 account\n",
      "  2. Multiple login failures occurred on user 9052 account\n",
      "  3. User 7153 made multiple incorrect login attempts\n",
      "  4. User 8300 made multiple incorrect login attempts\n",
      "  5. Multiple login failures were detected for user 6373\n",
      "\n",
      "Cluster 8 (containing 60 records):\n",
      "  1. Backup completed successfully.\n",
      "  2. Backup completed successfully.\n",
      "  3. Backup completed successfully.\n",
      "  4. Backup completed successfully.\n",
      "  5. Backup completed successfully.\n",
      "\n",
      "Cluster 21 (containing 58 records):\n",
      "  1. System updated to version 3.9.1.\n",
      "  2. System updated to version 5.5.4.\n",
      "  3. System updated to version 4.7.4.\n",
      "  4. System updated to version 3.7.7.\n",
      "  5. System updated to version 2.6.2.\n",
      "\n",
      "Cluster 3 (containing 57 records):\n",
      "  1. Shard 6 replication task ended in failure\n",
      "  2. Data replication task for shard 14 did not complete\n",
      "  3. Data replication task failed for shard 17\n",
      "  4. Replication of data to shard 14 failed\n",
      "  5. Data replication task for shard 6 did not complete\n",
      "\n",
      "Cluster 4 (containing 53 records):\n",
      "  1. File data_6169.csv uploaded successfully by user User953.\n",
      "  2. File data_3847.csv uploaded successfully by user User175.\n",
      "  3. File data_7366.csv uploaded successfully by user User282.\n",
      "  4. File data_1206.csv uploaded successfully by user User359.\n",
      "  5. File data_1503.csv uploaded successfully by user User151.\n",
      "\n",
      "Cluster 17 (containing 52 records):\n",
      "  1. Denied access attempt on restricted account Account2682\n",
      "  2. Unauthorized login attempt on protected account Account5030\n",
      "  3. Account Account9437 blocked due to failed login\n",
      "  4. Account Account7999 access denied due to login failure\n",
      "  5. Invalid login attempt made on secured account Account7864\n",
      "\n",
      "Cluster 6 (containing 51 records):\n",
      "  1. Critical system unit error: unit ID Component55\n",
      "  2. System component malfunction: component ID Component79\n",
      "  3. Critical system element is down: element ID Component96\n",
      "  4. Essential system part malfunction: part ID Component6\n",
      "  5. Failure occurred in critical system component: component ID Component92\n",
      "\n",
      "Cluster 32 (containing 51 records):\n",
      "  1. Disk cleanup completed successfully.\n",
      "  2. Disk cleanup completed successfully.\n",
      "  3. Disk cleanup completed successfully.\n",
      "  4. Disk cleanup completed successfully.\n",
      "  5. Disk cleanup completed successfully.\n",
      "\n",
      "Cluster 16 (containing 48 records):\n",
      "  1. System reboot initiated by user User243.\n",
      "  2. System reboot initiated by user User471.\n",
      "  3. System reboot initiated by user User216.\n",
      "  4. System reboot initiated by user User639.\n",
      "  5. System reboot initiated by user User819.\n",
      "\n",
      "Cluster 20 (containing 48 records):\n",
      "  1. User 7662 tried to bypass API security measures\n",
      "  2. User 2367 failed to provide valid API access credentials\n",
      "  3. User 3569 made an unauthorized API request\n",
      "  4. Unauthorized user 2968 tried to access restricted API\n",
      "  5. User 2186 attempted to access API without proper authorization\n",
      "\n",
      "Cluster 9 (containing 44 records):\n",
      "  1. Account with ID 5351 created by User634.\n",
      "  2. Account with ID 7813 created by User373.\n",
      "  3. Account with ID 9827 created by User965.\n",
      "  4. Account with ID 2520 created by User546.\n",
      "  5. Account with ID 2300 created by User964.\n",
      "\n",
      "Cluster 1 (containing 39 records):\n",
      "  1. Email service experiencing issues with sending\n",
      "  2. Email server encountered a sending fault\n",
      "  3. Mail service encountered a delivery glitch\n",
      "  4. Service disruption caused by email sending error\n",
      "  5. Email system had a problem sending emails\n",
      "\n",
      "Cluster 10 (containing 30 records):\n",
      "  1. nova.compute.resource_tracker [req-addc1839-2ed5-4778-b57e-5854eb7b8b09 - - - - -] Final resource view: name=cp-1.slowvm1.tcloud-pg0.utah.cloudlab.us phys_ram=64172MB used_ram=512MB phys_disk=15GB used_disk=0GB total_vcpus=16 used_vcpus=0 pci_stats=[]\n",
      "  2. nova.compute.resource_tracker [req-addc1839-2ed5-4778-b57e-5854eb7b8b09 - - - - -] Final resource view: name=cp-1.slowvm1.tcloud-pg0.utah.cloudlab.us phys_ram=64172MB used_ram=2560MB phys_disk=15GB used_disk=20GB total_vcpus=16 used_vcpus=1 pci_stats=[]\n",
      "  3. nova.compute.resource_tracker [req-addc1839-2ed5-4778-b57e-5854eb7b8b09 - - - - -] Total usable vcpus: 16, total allocated vcpus: 0\n",
      "  4. nova.compute.resource_tracker [req-addc1839-2ed5-4778-b57e-5854eb7b8b09 - - - - -] Final resource view: name=cp-1.slowvm1.tcloud-pg0.utah.cloudlab.us phys_ram=64172MB used_ram=2560MB phys_disk=15GB used_disk=20GB total_vcpus=16 used_vcpus=1 pci_stats=[]\n",
      "  5. nova.compute.resource_tracker [req-addc1839-2ed5-4778-b57e-5854eb7b8b09 - - - - -] Final resource view: name=cp-1.slowvm1.tcloud-pg0.utah.cloudlab.us phys_ram=64172MB used_ram=2560MB phys_disk=15GB used_disk=20GB total_vcpus=16 used_vcpus=1 pci_stats=[]\n",
      "\n",
      "Cluster 34 (containing 25 records):\n",
      "  1. Abnormal behavior found on server 10, possible security threat\n",
      "  2. Security alert: suspicious activity on server 1\n",
      "  3. Anomalous activity identified on server 23, security review recommended\n",
      "  4. Server 27 experienced potential security incident, review required\n",
      "  5. Server 36 experienced potential security incident, review required\n",
      "\n",
      "Cluster 53 (containing 20 records):\n",
      "  1. Module X experienced an invalid data format issue\n",
      "  2. Input format mismatch occurred in module X\n",
      "  3. Module X reported an error in input format validation\n",
      "  4. Module X failed to process input due to formatting error\n",
      "  5. Input data format in module X was invalid or corrupted\n",
      "\n",
      "Cluster 14 (containing 20 records):\n",
      "  1. Detection of multiple disk faults in RAID setup\n",
      "  2. RAID array suffered multiple hard drive failures\n",
      "  3. RAID array experienced multiple disk crashes\n",
      "  4. Multiple hard drive issues in RAID configuration found\n",
      "  5. Identification of multiple faulty disks in RAID array\n",
      "\n",
      "Cluster 52 (containing 20 records):\n",
      "  1. Service health check was not successful because of SSL certificate validation failures.\n",
      "  2. Invalid SSL certificate resulted in a failed service health check.\n",
      "  3. Service health check failure was due to an invalid or improperly configured SSL certificate.\n",
      "  4. An issue with the SSL certificate caused the service health check to fail.\n",
      "  5. Service health check failure was caused by an expired SSL certificate.\n",
      "\n",
      "Cluster 18 (containing 17 records):\n",
      "  1. Boot process terminated unexpectedly due to kernel issue\n",
      "  2. System encountered kernel panic during initialization phase\n",
      "  3. Boot process was stopped by kernel malfunction\n",
      "  4. System encountered kernel failure during bootup sequence\n",
      "  5. Boot sequence failed due to kernel panic\n",
      "\n",
      "Cluster 42 (containing 13 records):\n",
      "  1. User 5127 has escalated admin privileges without authorization\n",
      "  2. User 9745 has escalated to admin level\n",
      "  3. User 8483 escalated privileges to admin level\n",
      "  4. User 1987 has escalated to admin level\n",
      "  5. User 8395 escalated privileges to admin level\n",
      "\n",
      "Cluster 25 (containing 13 records):\n",
      "  1. System configuration is no longer valid\n",
      "  2. Configuration is corrupted throughout the system\n",
      "  3. Cross-system configuration failure occurred\n",
      "  4. System configuration is experiencing errors\n",
      "  5. Configuration malfunction is system-wide\n",
      "\n",
      "Cluster 59 (containing 12 records):\n",
      "  1. Potential security threat: Admin privilege escalation for user 5130\n",
      "  2. Admin privilege escalation alert for user 2893\n",
      "  3. Admin privilege escalation alert for user 8532\n",
      "  4. Potential security threat: Admin privilege escalation for user 1554\n",
      "  5. Warning: Potential admin privilege escalation for user 5720\n",
      "\n",
      "Cluster 26 (containing 11 records):\n",
      "  1. Privilege elevation detected for user 5038\n",
      "  2. Elevation of admin privileges detected for user 6137\n",
      "  3. Elevation of admin privileges detected for user 4907\n",
      "  4. User 6069 has been granted elevated admin privileges\n",
      "  5. Admin privilege elevation warning for user 7574\n"
     ]
    }
   ],
   "source": [
    "# After clustering, count the number of samples in each cluster\n",
    "cluster_counts = df['cluster'].value_counts()\n",
    "\n",
    "# Print examples from clusters with more than 10 records\n",
    "print(\"\\nClusters with more than 10 records:\")\n",
    "for cluster_id, count in cluster_counts.items():\n",
    "    if count > 10 and cluster_id != -1:  # Skip noise points (cluster -1)\n",
    "        print(f\"\\nCluster {cluster_id} (containing {count} records):\")\n",
    "        \n",
    "        # Get 5 examples from this cluster\n",
    "        examples = df[df['cluster'] == cluster_id]['log_message'].head(5).tolist()\n",
    "        for i, example in enumerate(examples):\n",
    "            print(f\"  {i+1}. {example}\")"
   ]
  },
  {
   "cell_type": "code",
   "execution_count": 10,
   "id": "459f33ff",
   "metadata": {},
   "outputs": [],
   "source": [
    "import re\n",
    "def classify_with_regex(log_message):\n",
    "    regex_patterns = {\n",
    "        r\"User User\\d+ logged (in|out).\": \"User Action\",\n",
    "        r\"Backup (started|ended) at .*\": \"System Notification\",\n",
    "        r\"Backup completed successfully.\": \"System Notification\",\n",
    "        r\"System updated to version .*\": \"System Notification\",\n",
    "        r\"File .* uploaded successfully by user .*\": \"System Notification\",\n",
    "        r\"Disk cleanup completed successfully.\": \"System Notification\",\n",
    "        r\"System reboot initiated by user .*\": \"System Notification\",\n",
    "        r\"Account with ID .* created by .*\": \"User Action\"\n",
    "    }\n",
    "    for pattern, label in regex_patterns.items():\n",
    "        if re.search(pattern, log_message):\n",
    "            return label\n",
    "    return None"
   ]
  },
  {
   "cell_type": "code",
   "execution_count": 11,
   "id": "fc7e9196",
   "metadata": {},
   "outputs": [
    {
     "data": {
      "text/plain": [
       "'User Action'"
      ]
     },
     "execution_count": 11,
     "metadata": {},
     "output_type": "execute_result"
    }
   ],
   "source": [
    "classify_with_regex(\"User User123 logged in.\")\n"
   ]
  },
  {
   "cell_type": "code",
   "execution_count": 12,
   "id": "53db69d9",
   "metadata": {},
   "outputs": [
    {
     "data": {
      "text/plain": [
       "'System Notification'"
      ]
     },
     "execution_count": 12,
     "metadata": {},
     "output_type": "execute_result"
    }
   ],
   "source": [
    "classify_with_regex(\"System reboot initiated by user User179.\")\n"
   ]
  },
  {
   "cell_type": "code",
   "execution_count": 13,
   "id": "ffd0047a",
   "metadata": {},
   "outputs": [],
   "source": [
    "classify_with_regex(\"Hey you, chill bro\")"
   ]
  },
  {
   "cell_type": "code",
   "execution_count": 14,
   "id": "959944ad",
   "metadata": {},
   "outputs": [
    {
     "data": {
      "application/vnd.microsoft.datawrangler.viewer.v0+json": {
       "columns": [
        {
         "name": "index",
         "rawType": "int64",
         "type": "integer"
        },
        {
         "name": "timestamp",
         "rawType": "object",
         "type": "string"
        },
        {
         "name": "source",
         "rawType": "object",
         "type": "string"
        },
        {
         "name": "log_message",
         "rawType": "object",
         "type": "string"
        },
        {
         "name": "target_label",
         "rawType": "object",
         "type": "string"
        },
        {
         "name": "cluster",
         "rawType": "int64",
         "type": "integer"
        },
        {
         "name": "regex_label",
         "rawType": "object",
         "type": "string"
        }
       ],
       "conversionMethod": "pd.DataFrame",
       "ref": "5410855d-9fd9-4417-b163-aa982b2a94cd",
       "rows": [
        [
         "7",
         "10/11/2025 8:44",
         "ModernHR",
         "File data_6169.csv uploaded successfully by user User953.",
         "System Notification",
         "4",
         "System Notification"
        ],
        [
         "14",
         "1/4/2025 1:43",
         "ThirdPartyAPI",
         "File data_3847.csv uploaded successfully by user User175.",
         "System Notification",
         "4",
         "System Notification"
        ],
        [
         "15",
         "5/1/2025 9:41",
         "ModernCRM",
         "Backup completed successfully.",
         "System Notification",
         "8",
         "System Notification"
        ],
        [
         "18",
         "2/22/2025 17:49",
         "ModernCRM",
         "Account with ID 5351 created by User634.",
         "User Action",
         "9",
         "User Action"
        ],
        [
         "27",
         "9/24/2025 19:57",
         "ThirdPartyAPI",
         "User User685 logged out.",
         "User Action",
         "11",
         "User Action"
        ],
        [
         "30",
         "4/26/2025 7:54",
         "AnalyticsEngine",
         "Backup started at 2025-05-14 07:06:55.",
         "System Notification",
         "13",
         "System Notification"
        ],
        [
         "36",
         "11/19/2025 13:14",
         "BillingSystem",
         "System reboot initiated by user User243.",
         "System Notification",
         "16",
         "System Notification"
        ],
        [
         "44",
         "6/20/2025 0:53",
         "BillingSystem",
         "Backup started at 2025-02-15 20:00:19.",
         "System Notification",
         "13",
         "System Notification"
        ],
        [
         "48",
         "7/1/2025 9:43",
         "ModernHR",
         "File data_7366.csv uploaded successfully by user User282.",
         "System Notification",
         "4",
         "System Notification"
        ],
        [
         "50",
         "1/16/2025 21:45",
         "ThirdPartyAPI",
         "System updated to version 3.9.1.",
         "System Notification",
         "21",
         "System Notification"
        ],
        [
         "52",
         "11/12/2025 13:13",
         "BillingSystem",
         "Backup completed successfully.",
         "System Notification",
         "8",
         "System Notification"
        ],
        [
         "54",
         "2/19/2025 2:00",
         "AnalyticsEngine",
         "Backup completed successfully.",
         "System Notification",
         "8",
         "System Notification"
        ],
        [
         "57",
         "9/14/2025 3:03",
         "AnalyticsEngine",
         "User User395 logged in.",
         "User Action",
         "11",
         "User Action"
        ],
        [
         "81",
         "1/26/2025 8:48",
         "ThirdPartyAPI",
         "Backup completed successfully.",
         "System Notification",
         "8",
         "System Notification"
        ],
        [
         "83",
         "2/9/2025 15:09",
         "ModernCRM",
         "Backup completed successfully.",
         "System Notification",
         "8",
         "System Notification"
        ],
        [
         "85",
         "3/13/2025 2:11",
         "ModernHR",
         "User User225 logged in.",
         "User Action",
         "11",
         "User Action"
        ],
        [
         "88",
         "3/8/2025 19:04",
         "AnalyticsEngine",
         "User User494 logged out.",
         "User Action",
         "11",
         "User Action"
        ],
        [
         "92",
         "12/4/2025 21:20",
         "BillingSystem",
         "System reboot initiated by user User471.",
         "System Notification",
         "16",
         "System Notification"
        ],
        [
         "96",
         "12/7/2025 10:38",
         "ModernCRM",
         "Disk cleanup completed successfully.",
         "System Notification",
         "32",
         "System Notification"
        ],
        [
         "99",
         "8/16/2025 8:55",
         "BillingSystem",
         "Backup completed successfully.",
         "System Notification",
         "8",
         "System Notification"
        ],
        [
         "108",
         "3/4/2025 21:15",
         "BillingSystem",
         "Backup ended at 2025-08-08 13:06:23.",
         "System Notification",
         "13",
         "System Notification"
        ],
        [
         "114",
         "7/21/2025 2:46",
         "ModernCRM",
         "Backup completed successfully.",
         "System Notification",
         "8",
         "System Notification"
        ],
        [
         "122",
         "9/16/2025 18:59",
         "ModernHR",
         "Account with ID 7813 created by User373.",
         "User Action",
         "9",
         "User Action"
        ],
        [
         "126",
         "11/22/2025 21:09",
         "ThirdPartyAPI",
         "User User900 logged in.",
         "User Action",
         "11",
         "User Action"
        ],
        [
         "128",
         "11/25/2025 16:45",
         "BillingSystem",
         "Backup started at 2025-11-14 08:27:43.",
         "System Notification",
         "13",
         "System Notification"
        ],
        [
         "129",
         "8/3/2025 11:43",
         "BillingSystem",
         "File data_1206.csv uploaded successfully by user User359.",
         "System Notification",
         "4",
         "System Notification"
        ],
        [
         "139",
         "5/8/2025 16:34",
         "ModernHR",
         "System reboot initiated by user User216.",
         "System Notification",
         "16",
         "System Notification"
        ],
        [
         "140",
         "9/11/2025 8:49",
         "AnalyticsEngine",
         "System reboot initiated by user User639.",
         "System Notification",
         "16",
         "System Notification"
        ],
        [
         "142",
         "8/8/2025 10:12",
         "ThirdPartyAPI",
         "Backup completed successfully.",
         "System Notification",
         "8",
         "System Notification"
        ],
        [
         "151",
         "7/12/2025 13:01",
         "ThirdPartyAPI",
         "Backup completed successfully.",
         "System Notification",
         "8",
         "System Notification"
        ],
        [
         "160",
         "3/30/2025 11:09",
         "BillingSystem",
         "Disk cleanup completed successfully.",
         "System Notification",
         "32",
         "System Notification"
        ],
        [
         "161",
         "3/31/2025 19:40",
         "BillingSystem",
         "System reboot initiated by user User819.",
         "System Notification",
         "16",
         "System Notification"
        ],
        [
         "163",
         "6/6/2025 15:29",
         "BillingSystem",
         "System reboot initiated by user User938.",
         "System Notification",
         "16",
         "System Notification"
        ],
        [
         "176",
         "2/12/2025 10:17",
         "ModernCRM",
         "System updated to version 5.5.4.",
         "System Notification",
         "21",
         "System Notification"
        ],
        [
         "183",
         "9/3/2025 23:16",
         "BillingSystem",
         "Backup completed successfully.",
         "System Notification",
         "8",
         "System Notification"
        ],
        [
         "185",
         "3/11/2025 21:44",
         "ModernCRM",
         "System updated to version 4.7.4.",
         "System Notification",
         "21",
         "System Notification"
        ],
        [
         "191",
         "5/6/2025 23:58",
         "ThirdPartyAPI",
         "Backup started at 2025-12-09 10:19:11.",
         "System Notification",
         "13",
         "System Notification"
        ],
        [
         "192",
         "10/19/2025 14:12",
         "BillingSystem",
         "System updated to version 3.7.7.",
         "System Notification",
         "21",
         "System Notification"
        ],
        [
         "194",
         "8/23/2025 1:02",
         "ModernHR",
         "File data_1503.csv uploaded successfully by user User151.",
         "System Notification",
         "4",
         "System Notification"
        ],
        [
         "196",
         "10/20/2025 8:49",
         "ModernHR",
         "Backup completed successfully.",
         "System Notification",
         "8",
         "System Notification"
        ],
        [
         "205",
         "2/11/2025 11:36",
         "ModernHR",
         "Account with ID 9827 created by User965.",
         "User Action",
         "9",
         "User Action"
        ],
        [
         "208",
         "11/2/2025 22:20",
         "ThirdPartyAPI",
         "Disk cleanup completed successfully.",
         "System Notification",
         "32",
         "System Notification"
        ],
        [
         "209",
         "2/14/2025 13:28",
         "ModernCRM",
         "Backup started at 2025-01-15 04:36:39.",
         "System Notification",
         "13",
         "System Notification"
        ],
        [
         "211",
         "4/24/2025 12:53",
         "AnalyticsEngine",
         "User User272 logged out.",
         "User Action",
         "11",
         "User Action"
        ],
        [
         "214",
         "8/8/2025 20:12",
         "ModernHR",
         "User User706 logged out.",
         "User Action",
         "11",
         "User Action"
        ],
        [
         "215",
         "2/9/2025 15:05",
         "ThirdPartyAPI",
         "Backup completed successfully.",
         "System Notification",
         "8",
         "System Notification"
        ],
        [
         "219",
         "11/10/2025 5:01",
         "ModernHR",
         "User User881 logged out.",
         "User Action",
         "11",
         "User Action"
        ],
        [
         "220",
         "9/24/2025 19:19",
         "ModernCRM",
         "User User313 logged out.",
         "User Action",
         "11",
         "User Action"
        ],
        [
         "225",
         "7/23/2025 12:56",
         "AnalyticsEngine",
         "Disk cleanup completed successfully.",
         "System Notification",
         "32",
         "System Notification"
        ],
        [
         "236",
         "11/27/2025 2:58",
         "ThirdPartyAPI",
         "Backup started at 2025-08-29 15:17:18.",
         "System Notification",
         "13",
         "System Notification"
        ]
       ],
       "shape": {
        "columns": 6,
        "rows": 500
       }
      },
      "text/html": [
       "<div>\n",
       "<style scoped>\n",
       "    .dataframe tbody tr th:only-of-type {\n",
       "        vertical-align: middle;\n",
       "    }\n",
       "\n",
       "    .dataframe tbody tr th {\n",
       "        vertical-align: top;\n",
       "    }\n",
       "\n",
       "    .dataframe thead th {\n",
       "        text-align: right;\n",
       "    }\n",
       "</style>\n",
       "<table border=\"1\" class=\"dataframe\">\n",
       "  <thead>\n",
       "    <tr style=\"text-align: right;\">\n",
       "      <th></th>\n",
       "      <th>timestamp</th>\n",
       "      <th>source</th>\n",
       "      <th>log_message</th>\n",
       "      <th>target_label</th>\n",
       "      <th>cluster</th>\n",
       "      <th>regex_label</th>\n",
       "    </tr>\n",
       "  </thead>\n",
       "  <tbody>\n",
       "    <tr>\n",
       "      <th>7</th>\n",
       "      <td>10/11/2025 8:44</td>\n",
       "      <td>ModernHR</td>\n",
       "      <td>File data_6169.csv uploaded successfully by us...</td>\n",
       "      <td>System Notification</td>\n",
       "      <td>4</td>\n",
       "      <td>System Notification</td>\n",
       "    </tr>\n",
       "    <tr>\n",
       "      <th>14</th>\n",
       "      <td>1/4/2025 1:43</td>\n",
       "      <td>ThirdPartyAPI</td>\n",
       "      <td>File data_3847.csv uploaded successfully by us...</td>\n",
       "      <td>System Notification</td>\n",
       "      <td>4</td>\n",
       "      <td>System Notification</td>\n",
       "    </tr>\n",
       "    <tr>\n",
       "      <th>15</th>\n",
       "      <td>5/1/2025 9:41</td>\n",
       "      <td>ModernCRM</td>\n",
       "      <td>Backup completed successfully.</td>\n",
       "      <td>System Notification</td>\n",
       "      <td>8</td>\n",
       "      <td>System Notification</td>\n",
       "    </tr>\n",
       "    <tr>\n",
       "      <th>18</th>\n",
       "      <td>2/22/2025 17:49</td>\n",
       "      <td>ModernCRM</td>\n",
       "      <td>Account with ID 5351 created by User634.</td>\n",
       "      <td>User Action</td>\n",
       "      <td>9</td>\n",
       "      <td>User Action</td>\n",
       "    </tr>\n",
       "    <tr>\n",
       "      <th>27</th>\n",
       "      <td>9/24/2025 19:57</td>\n",
       "      <td>ThirdPartyAPI</td>\n",
       "      <td>User User685 logged out.</td>\n",
       "      <td>User Action</td>\n",
       "      <td>11</td>\n",
       "      <td>User Action</td>\n",
       "    </tr>\n",
       "    <tr>\n",
       "      <th>...</th>\n",
       "      <td>...</td>\n",
       "      <td>...</td>\n",
       "      <td>...</td>\n",
       "      <td>...</td>\n",
       "      <td>...</td>\n",
       "      <td>...</td>\n",
       "    </tr>\n",
       "    <tr>\n",
       "      <th>2376</th>\n",
       "      <td>6/27/2025 8:47</td>\n",
       "      <td>ModernCRM</td>\n",
       "      <td>System updated to version 2.0.5.</td>\n",
       "      <td>System Notification</td>\n",
       "      <td>21</td>\n",
       "      <td>System Notification</td>\n",
       "    </tr>\n",
       "    <tr>\n",
       "      <th>2381</th>\n",
       "      <td>9/5/2025 6:39</td>\n",
       "      <td>ThirdPartyAPI</td>\n",
       "      <td>Disk cleanup completed successfully.</td>\n",
       "      <td>System Notification</td>\n",
       "      <td>32</td>\n",
       "      <td>System Notification</td>\n",
       "    </tr>\n",
       "    <tr>\n",
       "      <th>2394</th>\n",
       "      <td>4/3/2025 13:13</td>\n",
       "      <td>ModernHR</td>\n",
       "      <td>Disk cleanup completed successfully.</td>\n",
       "      <td>System Notification</td>\n",
       "      <td>32</td>\n",
       "      <td>System Notification</td>\n",
       "    </tr>\n",
       "    <tr>\n",
       "      <th>2395</th>\n",
       "      <td>5/2/2025 14:29</td>\n",
       "      <td>ThirdPartyAPI</td>\n",
       "      <td>Backup ended at 2025-05-06 11:23:16.</td>\n",
       "      <td>System Notification</td>\n",
       "      <td>13</td>\n",
       "      <td>System Notification</td>\n",
       "    </tr>\n",
       "    <tr>\n",
       "      <th>2403</th>\n",
       "      <td>10/1/2025 1:31</td>\n",
       "      <td>ModernCRM</td>\n",
       "      <td>Backup completed successfully.</td>\n",
       "      <td>System Notification</td>\n",
       "      <td>8</td>\n",
       "      <td>System Notification</td>\n",
       "    </tr>\n",
       "  </tbody>\n",
       "</table>\n",
       "<p>500 rows × 6 columns</p>\n",
       "</div>"
      ],
      "text/plain": [
       "            timestamp         source  \\\n",
       "7     10/11/2025 8:44       ModernHR   \n",
       "14      1/4/2025 1:43  ThirdPartyAPI   \n",
       "15      5/1/2025 9:41      ModernCRM   \n",
       "18    2/22/2025 17:49      ModernCRM   \n",
       "27    9/24/2025 19:57  ThirdPartyAPI   \n",
       "...               ...            ...   \n",
       "2376   6/27/2025 8:47      ModernCRM   \n",
       "2381    9/5/2025 6:39  ThirdPartyAPI   \n",
       "2394   4/3/2025 13:13       ModernHR   \n",
       "2395   5/2/2025 14:29  ThirdPartyAPI   \n",
       "2403   10/1/2025 1:31      ModernCRM   \n",
       "\n",
       "                                            log_message         target_label  \\\n",
       "7     File data_6169.csv uploaded successfully by us...  System Notification   \n",
       "14    File data_3847.csv uploaded successfully by us...  System Notification   \n",
       "15                       Backup completed successfully.  System Notification   \n",
       "18             Account with ID 5351 created by User634.          User Action   \n",
       "27                             User User685 logged out.          User Action   \n",
       "...                                                 ...                  ...   \n",
       "2376                   System updated to version 2.0.5.  System Notification   \n",
       "2381               Disk cleanup completed successfully.  System Notification   \n",
       "2394               Disk cleanup completed successfully.  System Notification   \n",
       "2395               Backup ended at 2025-05-06 11:23:16.  System Notification   \n",
       "2403                     Backup completed successfully.  System Notification   \n",
       "\n",
       "      cluster          regex_label  \n",
       "7           4  System Notification  \n",
       "14          4  System Notification  \n",
       "15          8  System Notification  \n",
       "18          9          User Action  \n",
       "27         11          User Action  \n",
       "...       ...                  ...  \n",
       "2376       21  System Notification  \n",
       "2381       32  System Notification  \n",
       "2394       32  System Notification  \n",
       "2395       13  System Notification  \n",
       "2403        8  System Notification  \n",
       "\n",
       "[500 rows x 6 columns]"
      ]
     },
     "execution_count": 14,
     "metadata": {},
     "output_type": "execute_result"
    }
   ],
   "source": [
    "# Apply regex classification\n",
    "df['regex_label'] = df['log_message'].apply(lambda x: classify_with_regex(x))\n",
    "df[df['regex_label'].notnull()]"
   ]
  },
  {
   "cell_type": "code",
   "execution_count": 15,
   "id": "28e17723",
   "metadata": {},
   "outputs": [
    {
     "data": {
      "text/plain": [
       "(1910, 6)"
      ]
     },
     "execution_count": 15,
     "metadata": {},
     "output_type": "execute_result"
    }
   ],
   "source": [
    "df_non_regex = df[df['regex_label'].isnull()].copy()\n",
    "df_non_regex.shape"
   ]
  },
  {
   "cell_type": "code",
   "execution_count": 16,
   "id": "044d0239",
   "metadata": {},
   "outputs": [
    {
     "name": "stdout",
     "output_type": "stream",
     "text": [
      "Target labels with fewer than 5 occurrences: ['Workflow Error', 'Deprecation Warning']\n"
     ]
    }
   ],
   "source": [
    "# Count occurrences of each target label\n",
    "label_counts = df_non_regex['target_label'].value_counts()\n",
    "\n",
    "# Find target labels with fewer than 5 occurrences\n",
    "rare_labels = label_counts[label_counts < 5].index.tolist()\n",
    "\n",
    "print(f\"Target labels with fewer than 5 occurrences: {rare_labels}\")"
   ]
  },
  {
   "cell_type": "code",
   "execution_count": 17,
   "id": "da8f8c61",
   "metadata": {},
   "outputs": [
    {
     "name": "stdout",
     "output_type": "stream",
     "text": [
      "After removing rare labels, dataframe shape: (1903, 6)\n"
     ]
    }
   ],
   "source": [
    "# Remove rows with these rare target labels\n",
    "df_cleaned = df_non_regex[~df_non_regex['target_label'].isin(rare_labels)]\n",
    "\n",
    "print(f\"After removing rare labels, dataframe shape: {df_cleaned.shape}\")"
   ]
  },
  {
   "cell_type": "code",
   "execution_count": 18,
   "id": "fb5c37be",
   "metadata": {},
   "outputs": [
    {
     "name": "stdout",
     "output_type": "stream",
     "text": [
      "Generating embeddings...\n"
     ]
    },
    {
     "name": "stderr",
     "output_type": "stream",
     "text": [
      "Batches: 100%|██████████| 60/60 [00:50<00:00,  1.18it/s]\n"
     ]
    }
   ],
   "source": [
    "# Initialize the sentence transformer model\n",
    "model = SentenceTransformer('all-MiniLM-L6-v2')\n",
    "\n",
    "# Generate embeddings for the log messages\n",
    "print(\"Generating embeddings...\")\n",
    "embeddings2 = model.encode(df_cleaned['log_message'].tolist(), show_progress_bar=True)\n"
   ]
  },
  {
   "cell_type": "code",
   "execution_count": 19,
   "id": "2790b8b8",
   "metadata": {},
   "outputs": [
    {
     "data": {
      "text/plain": [
       "array([[-0.10293962,  0.03354594, -0.02202607, ...,  0.00457793,\n",
       "        -0.04259717,  0.00322621],\n",
       "       [ 0.00804572, -0.03573923,  0.04938739, ...,  0.01538319,\n",
       "        -0.06230947, -0.02774666],\n",
       "       [-0.00908224,  0.13003924, -0.05275568, ...,  0.02014104,\n",
       "        -0.05117098, -0.02930294],\n",
       "       [-0.09751046,  0.04911299, -0.03977424, ...,  0.02477502,\n",
       "        -0.03546079, -0.00018598],\n",
       "       [-0.10468338,  0.05926038, -0.02488499, ...,  0.02502055,\n",
       "        -0.037193  , -0.0256891 ]], shape=(5, 384), dtype=float32)"
      ]
     },
     "execution_count": 19,
     "metadata": {},
     "output_type": "execute_result"
    }
   ],
   "source": [
    "embeddings2[:5]"
   ]
  },
  {
   "cell_type": "code",
   "execution_count": 20,
   "id": "58227088",
   "metadata": {},
   "outputs": [
    {
     "name": "stdout",
     "output_type": "stream",
     "text": [
      "Training logistic regression model has changes...\n",
      "                precision    recall  f1-score   support\n",
      "\n",
      "Critical Error       0.91      1.00      0.95        48\n",
      "         Error       0.98      0.89      0.93        47\n",
      "   HTTP Status       1.00      1.00      1.00       304\n",
      "Resource Usage       1.00      1.00      1.00        49\n",
      "Security Alert       1.00      0.99      1.00       123\n",
      "\n",
      "      accuracy                           0.99       571\n",
      "     macro avg       0.98      0.98      0.98       571\n",
      "  weighted avg       0.99      0.99      0.99       571\n",
      "\n"
     ]
    }
   ],
   "source": [
    "from sklearn.preprocessing import LabelEncoder\n",
    "from sklearn.linear_model import LogisticRegression\n",
    "from sklearn.model_selection import train_test_split\n",
    "from sklearn.metrics import accuracy_score\n",
    "from sklearn.metrics import classification_report\n",
    "X=embeddings2\n",
    "'''label_encoder = LabelEncoder()'''\n",
    "'''y = label_encoder.fit_transform(df_cleaned['target_label'])'''\n",
    "y=df_cleaned['target_label'].values\n",
    "X_train, X_test, y_train, y_test = train_test_split(\n",
    "    X, y, test_size=0.30, random_state=42)\n",
    "\n",
    "print(\"Training logistic regression model has changes...\")\n",
    "lr_model = LogisticRegression(max_iter=1000)\n",
    "lr_model.fit(X_train, y_train)\n",
    "\n",
    "# 5. Make predictions on the test set\n",
    "y_pred = lr_model.predict(X_test)\n",
    "report = classification_report(y_test, y_pred)\n",
    "print(report)"
   ]
  },
  {
   "cell_type": "code",
   "execution_count": null,
   "id": "f0fbfca6",
   "metadata": {},
   "outputs": [
    {
     "name": "stdout",
     "output_type": "stream",
     "text": [
      "Unique values in target_label: ['HTTP Status' 'Critical Error' 'Security Alert' 'Error' 'Resource Usage']\n",
      "Classes recognized by the model: ['Critical Error' 'Error' 'HTTP Status' 'Resource Usage' 'Security Alert']\n"
     ]
    }
   ],
   "source": [
    "# Check the unique values in your target column\n",
    "print(\"Unique values in target_label:\", df_cleaned['target_label'].unique())\n",
    "\n",
    "# Check what labels the model knows\n",
    "print(\"Classes recognized by the model:\", lr_model.classes_)\n",
    "\n"
   ]
  },
  {
   "cell_type": "code",
   "execution_count": null,
   "id": "652efa4a",
   "metadata": {},
   "outputs": [],
   "source": [
    "'''BASED ON ABOVE OUTPUT WE CAN CONCLUDE THAT \n",
    "This explains why your model works! The LogisticRegression class in scikit-learn is capable of handling string class labels directly.\n",
    "What's happening:\n",
    "\n",
    "When you use .values, you're getting a NumPy array of strings: ['HTTP Status', 'Critical Error', etc.]\n",
    "Scikit-learn's LogisticRegression automatically handles these string labels internally by:\n",
    "\n",
    "Creating a mapping of unique string values to numeric indices\n",
    "Using these numeric indices during training and prediction\n",
    "Preserving the original string labels in the classes_ attribute\n",
    "\n",
    "\n",
    "When you call predict(), the model returns the original string labels rather than numeric indices, which makes it seem like no encoding was necessary.\n",
    "\n",
    "This is a convenient feature, but it's happening \"under the hood.\" The model is still converting strings to numbers internally - you're just not seeing that step explicitly in your code.\n",
    "While this works fine, explicitly using LabelEncoder would still be considered a best practice because:\n",
    "\n",
    "It makes the encoding step visible in your code\n",
    "It gives you more control over the encoding process\n",
    "It's more consistent with how preprocessing is typically handled in ML pipelines\n",
    "\n",
    "But your current approach is valid and working correctly, as evidenced by the model recognizing all your class labels properly!'''"
   ]
  },
  {
   "cell_type": "code",
   "execution_count": 22,
   "id": "1ebc633e",
   "metadata": {},
   "outputs": [
    {
     "data": {
      "text/plain": [
       "['../models/log_classifier.joblib']"
      ]
     },
     "execution_count": 22,
     "metadata": {},
     "output_type": "execute_result"
    }
   ],
   "source": [
    "import joblib\n",
    "joblib.dump(lr_model, '../models/log_classifier.joblib')"
   ]
  }
 ],
 "metadata": {
  "kernelspec": {
   "display_name": "Python 3",
   "language": "python",
   "name": "python3"
  },
  "language_info": {
   "codemirror_mode": {
    "name": "ipython",
    "version": 3
   },
   "file_extension": ".py",
   "mimetype": "text/x-python",
   "name": "python",
   "nbconvert_exporter": "python",
   "pygments_lexer": "ipython3",
   "version": "3.12.0"
  }
 },
 "nbformat": 4,
 "nbformat_minor": 5
}
